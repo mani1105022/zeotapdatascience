{
  "nbformat": 4,
  "nbformat_minor": 0,
  "metadata": {
    "colab": {
      "provenance": []
    },
    "kernelspec": {
      "name": "python3",
      "display_name": "Python 3"
    },
    "language_info": {
      "name": "python"
    }
  },
  "cells": [
    {
      "cell_type": "markdown",
      "source": [
        "Plan for the Lookalike Model:\n",
        "\n",
        "Data Preparation:\n",
        "Merge the Customers.csv, Transactions.csv, and Products.csv datasets to create a complete view of customer transactions and profiles.\n",
        "Aggregate transaction data (e.g., total spending, most common product category, frequency of transactions) for each customer.\n",
        "\n",
        "Feature Engineering:\n",
        "Create features such as total spend, average transaction value, most purchased categories, and region encoding.\n",
        "\n",
        "\n",
        "Similarity Calculation:\n",
        "Use a distance metric like cosine similarity or Euclidean distance on the feature vectors.\n",
        "Model Implementation:\n",
        "\n",
        "Recommend the top 3 similar customers for the first 20 customers based on similarity scores."
      ],
      "metadata": {
        "id": "sRX0dys0YiwJ"
      }
    },
    {
      "cell_type": "code",
      "source": [
        "import pandas as pd\n",
        "from sklearn.preprocessing import StandardScaler, OneHotEncoder\n",
        "from sklearn.metrics.pairwise import cosine_similarity\n",
        "import numpy as np\n",
        "\n",
        "# Load datasets (ensure these are loaded in your environment)\n",
        "transactions_df = pd.read_csv('Transactions.csv')\n",
        "customers_df = pd.read_csv('Customers.csv')\n",
        "products_df = pd.read_csv('Products.csv')\n",
        "\n",
        "# Merge customer, transaction, and product data\n",
        "data = pd.merge(transactions_df, customers_df, on='CustomerID')\n",
        "data = pd.merge(data, products_df, on='ProductID')\n",
        "\n",
        "# Aggregate transaction data by customer\n",
        "customer_features = data.groupby('CustomerID').agg({\n",
        "    'TotalValue': ['sum', 'mean'],\n",
        "    'TransactionID': 'count',\n",
        "    'Category': lambda x: x.mode()[0] if not x.mode().empty else 'Unknown'\n",
        "}).reset_index()\n",
        "\n",
        "customer_features.columns = ['CustomerID', 'TotalSpend', 'AvgTransactionValue', 'TransactionCount', 'TopCategory']\n",
        "\n",
        "# One-hot encode categorical features (Region, TopCategory)\n",
        "# handle_unknown='ignore' to avoid errors with unseen categories during prediction\n",
        "region_encoder = OneHotEncoder(sparse_output=False, handle_unknown='ignore')\n",
        "encoded_region = region_encoder.fit_transform(customers_df[['Region']])\n",
        "\n",
        "category_encoder = OneHotEncoder(sparse_output=False, handle_unknown='ignore')\n",
        "encoded_category = category_encoder.fit_transform(customer_features[['TopCategory']])\n",
        "\n",
        "# Combine features into a single DataFrame\n",
        "customer_features = pd.merge(customer_features, customers_df[['CustomerID', 'Region']], on='CustomerID')\n",
        "customer_features = pd.concat(\n",
        "    [customer_features, pd.DataFrame(encoded_region, columns=region_encoder.get_feature_names_out(['Region'])),\n",
        "     pd.DataFrame(encoded_category, columns=category_encoder.get_feature_names_out(['TopCategory']))], axis=1\n",
        ").drop(['Region', 'TopCategory'], axis=1)\n",
        "\n",
        "# Handle NaN values before calculating cosine similarity\n",
        "# Impute NaN values with the mean of each column (a common strategy)\n",
        "for column in customer_features.select_dtypes(include=np.number).columns:\n",
        "    customer_features[column] = customer_features[column].fillna(customer_features[column].mean())\n",
        "\n",
        "# Compute similarity using cosine similarity\n",
        "feature_matrix = customer_features.drop('CustomerID', axis=1).values\n",
        "similarity_matrix = cosine_similarity(feature_matrix)\n",
        "\n",
        "# Extract top 3 lookalikes for the first 20 customers\n",
        "lookalike_results = {}\n",
        "\n",
        "for i, customer_id in enumerate(customer_features['CustomerID'][:20]):\n",
        "    # Get similarity scores for this customer\n",
        "    similarities = list(enumerate(similarity_matrix[i]))\n",
        "    # Exclude self-comparison and sort by similarity score\n",
        "    top_3_similar = sorted(similarities[1:], key=lambda x: x[1], reverse=True)[:3]\n",
        "    # Map to customer IDs and scores\n",
        "    lookalike_results[customer_id] = [(customer_features['CustomerID'][j], score) for j, score in top_3_similar]\n",
        "\n",
        "# Save results to Lookalike.csv\n",
        "lookalike_df = pd.DataFrame([\n",
        "    {'CustomerID': cust_id, 'Lookalikes': str(lookalikes)}\n",
        "    for cust_id, lookalikes in lookalike_results.items()\n",
        "])\n",
        "\n",
        "lookalike_df.to_csv('Lookalike.csv', index=False)\n",
        "\n",
        "print(\"Lookalike Model completed successfully. Results saved in Lookalike.csv.\")\n"
      ],
      "metadata": {
        "colab": {
          "base_uri": "https://localhost:8080/"
        },
        "id": "qzy8BlvqXXNI",
        "outputId": "0808efd3-5897-4d00-a1be-ea8d826588fe"
      },
      "execution_count": 24,
      "outputs": [
        {
          "output_type": "stream",
          "name": "stdout",
          "text": [
            "Lookalike Model completed successfully. Results saved in Lookalike.csv.\n"
          ]
        }
      ]
    },
    {
      "cell_type": "markdown",
      "source": [
        "sample for my another approch"
      ],
      "metadata": {
        "id": "hWDQl8TeZElS"
      }
    },
    {
      "cell_type": "code",
      "source": [
        "import pandas as pd\n",
        "from sklearn.preprocessing import StandardScaler, OneHotEncoder\n",
        "from sklearn.metrics.pairwise import cosine_similarity\n",
        "import numpy as np\n",
        "\n",
        "# Load datasets (ensure these are loaded in your environment)\n",
        "transactions_df = pd.read_csv('Transactions.csv')\n",
        "customers_df = pd.read_csv('Customers.csv')\n",
        "products_df = pd.read_csv('Products.csv')\n",
        "\n",
        "# Merge customer, transaction, and product data\n",
        "data = pd.merge(transactions_df, customers_df, on='CustomerID')\n",
        "data = pd.merge(data, products_df, on='ProductID')\n",
        "\n",
        "# Aggregate transaction data by customer\n",
        "customer_features = data.groupby('CustomerID').agg({\n",
        "    'TotalValue': ['sum', 'mean'],\n",
        "    'TransactionID': 'count',\n",
        "    'Category': lambda x: x.mode()[0] if not x.mode().empty else 'Unknown'\n",
        "}).reset_index()\n",
        "\n",
        "customer_features.columns = ['CustomerID', 'TotalSpend', 'AvgTransactionValue', 'TransactionCount', 'TopCategory']\n",
        "\n",
        "# One-hot encode categorical features (Region, TopCategory)\n",
        "region_encoder = OneHotEncoder(sparse_output=False, handle_unknown='ignore')\n",
        "encoded_region = region_encoder.fit_transform(customers_df[['Region']])\n",
        "\n",
        "category_encoder = OneHotEncoder(sparse_output=False, handle_unknown='ignore')\n",
        "encoded_category = category_encoder.fit_transform(customer_features[['TopCategory']])\n",
        "\n",
        "# Combine features into a single DataFrame\n",
        "customer_features = pd.merge(customer_features, customers_df[['CustomerID', 'Region']], on='CustomerID')\n",
        "customer_features = pd.concat(\n",
        "    [customer_features, pd.DataFrame(encoded_region, columns=region_encoder.get_feature_names_out(['Region'])),\n",
        "     pd.DataFrame(encoded_category, columns=category_encoder.get_feature_names_out(['TopCategory']))], axis=1\n",
        ").drop(['Region', 'TopCategory'], axis=1)\n",
        "\n",
        "# Handle NaN values before calculating cosine similarity\n",
        "for column in customer_features.select_dtypes(include=np.number).columns:\n",
        "    customer_features[column] = customer_features[column].fillna(customer_features[column].mean())\n",
        "\n",
        "# Normalize features to ensure fair similarity comparisons\n",
        "scaler = StandardScaler()\n",
        "scaled_features = scaler.fit_transform(customer_features.drop('CustomerID', axis=1))\n",
        "\n",
        "# Compute similarity using cosine similarity\n",
        "similarity_matrix = cosine_similarity(scaled_features)\n",
        "\n",
        "# Extract top 3 lookalikes for the first 20 customers\n",
        "lookalike_results = {}\n",
        "\n",
        "for i, customer_id in enumerate(customer_features['CustomerID'][:20]):\n",
        "    # Get similarity scores for this customer\n",
        "    similarities = list(enumerate(similarity_matrix[i]))\n",
        "    # Exclude self-comparison and sort by similarity score\n",
        "    top_3_similar = sorted(similarities, key=lambda x: x[1], reverse=True)[1:4]\n",
        "    # Map to customer IDs and scores\n",
        "    lookalike_results[customer_id] = [(customer_features['CustomerID'][j], round(score, 4)) for j, score in top_3_similar]\n",
        "\n",
        "# Save results to Lookalike.csv\n",
        "lookalike_df = pd.DataFrame([\n",
        "    {'CustomerID': cust_id, 'Lookalikes': str(lookalikes)}\n",
        "    for cust_id, lookalikes in lookalike_results.items()\n",
        "])\n",
        "\n",
        "lookalike_df.to_csv('Lookalike.csv', index=False)\n",
        "\n",
        "# Display sample results for validation\n",
        "print(\"Sample Lookalike Results:\")\n",
        "print(lookalike_df.head())\n",
        "print(\"\\nLookalike Model completed successfully. Results saved in Lookalike.csv.\")"
      ],
      "metadata": {
        "colab": {
          "base_uri": "https://localhost:8080/"
        },
        "id": "0VRCsvl1XyNe",
        "outputId": "f93e2275-c444-4a4e-836b-0d5fee3cdae4"
      },
      "execution_count": 21,
      "outputs": [
        {
          "output_type": "stream",
          "name": "stdout",
          "text": [
            "Sample Lookalike Results:\n",
            "  CustomerID                                         Lookalikes\n",
            "0      C0001  [('C0048', 0.9843), ('C0039', 0.9711), ('C0091...\n",
            "1      C0002  [('C0088', 0.9881), ('C0134', 0.9776), ('C0106...\n",
            "2      C0003  [('C0052', 0.9955), ('C0152', 0.9799), ('C0189...\n",
            "3      C0004  [('C0155', 0.9791), ('C0165', 0.9737), ('C0169...\n",
            "4      C0005  [('C0146', 0.9853), ('C0007', 0.9678), ('C0140...\n",
            "\n",
            "Lookalike Model completed successfully. Results saved in Lookalike.csv.\n"
          ]
        }
      ]
    }
  ]
}